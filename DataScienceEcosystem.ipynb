{
 "cells": [
  {
   "cell_type": "markdown",
   "id": "dad95ae0-d5c9-4190-81c3-bdb9bcd63ec8",
   "metadata": {},
   "source": [
    "# Data Science Tools and Ecosystem\n"
   ]
  },
  {
   "cell_type": "markdown",
   "id": "a3b12a3c-ac20-4ba8-bd5e-234a2daf68c5",
   "metadata": {},
   "source": [
    "## In this notebook, Data Science Tools and Ecosystem are summarized.\n"
   ]
  },
  {
   "cell_type": "markdown",
   "id": "daaec66a-298c-411d-962a-71f8a1037c08",
   "metadata": {},
   "source": [
    "**Objectives:**\n",
    "\n",
    "- List popular languages for Data Science.\n",
    "- List of the commonly used libraries used by Data Scientists.\n",
    "- Table with the Data Science Tools.\n",
    "- Aritmetich expressions in python.\n",
    "- \n",
    "\n"
   ]
  },
  {
   "cell_type": "markdown",
   "id": "8c5fc0e0-3874-48b5-877d-494ce2844ee1",
   "metadata": {},
   "source": [
    "### Some of the popular lenguages that Data science use are:\n",
    "\n",
    "1. R\n",
    "2. Python\n",
    "3. Java\n",
    "4. Julia\n",
    "5. SQL"
   ]
  },
  {
   "cell_type": "markdown",
   "id": "02aeddc9-7439-4aba-b8af-9899930427bf",
   "metadata": {},
   "source": [
    "Some of the commonly used libraries used by Data Scientists include:\n",
    "\n",
    "1. Panda\n",
    "2. Tensorflow\n",
    "3. ggplot2\n",
    "4. Ploty"
   ]
  },
  {
   "cell_type": "markdown",
   "id": "23b6c360-a01f-4bda-b93a-4e33dafce443",
   "metadata": {},
   "source": [
    "| Data Science Tools |\n",
    "| ------------------ |\n",
    "| Jupyter Notebooks |\n",
    "| Rstudio |\n",
    "| VS Studio Code |"
   ]
  },
  {
   "cell_type": "markdown",
   "id": "ca958431-568c-4ee6-9f5a-160649236893",
   "metadata": {},
   "source": [
    "### Below are a few examples of evaluating arithmetic expressions in Python.\n",
    "\n"
   ]
  },
  {
   "cell_type": "code",
   "execution_count": 8,
   "id": "b7c54168-0683-4736-ad50-7fc5af1691c8",
   "metadata": {},
   "outputs": [
    {
     "data": {
      "text/plain": [
       "17"
      ]
     },
     "execution_count": 8,
     "metadata": {},
     "output_type": "execute_result"
    }
   ],
   "source": [
    "(3*4)+5\n",
    "# This a simple arithmetic expression to mutiply then add integers"
   ]
  },
  {
   "cell_type": "code",
   "execution_count": 16,
   "id": "23dacc29-3307-49e0-bd0d-0c2872f0cc18",
   "metadata": {
    "scrolled": true
   },
   "outputs": [
    {
     "name": "stdout",
     "output_type": "stream",
     "text": [
      "200 minutes is 3 hours and 20 minutes\n"
     ]
    }
   ],
   "source": [
    "minutes = 200\n",
    "\n",
    "hour = minutes//60\n",
    "minutes_remaining = minutes % 60\n",
    "\n",
    "print (f\"{minutes} minutes is {hour} hours and {minutes_remaining} minutes\")\n"
   ]
  },
  {
   "cell_type": "markdown",
   "id": "7c24fe97-4f5d-423d-bd10-c47ffb07ada2",
   "metadata": {},
   "source": [
    "## Author\n",
    "Cristian Mendez"
   ]
  },
  {
   "cell_type": "code",
   "execution_count": null,
   "id": "89350943-4124-4568-a264-367e891db7c8",
   "metadata": {},
   "outputs": [],
   "source": []
  }
 ],
 "metadata": {
  "kernelspec": {
   "display_name": "Python [conda env:base] *",
   "language": "python",
   "name": "conda-base-py"
  },
  "language_info": {
   "codemirror_mode": {
    "name": "ipython",
    "version": 3
   },
   "file_extension": ".py",
   "mimetype": "text/x-python",
   "name": "python",
   "nbconvert_exporter": "python",
   "pygments_lexer": "ipython3",
   "version": "3.12.7"
  }
 },
 "nbformat": 4,
 "nbformat_minor": 5
}
